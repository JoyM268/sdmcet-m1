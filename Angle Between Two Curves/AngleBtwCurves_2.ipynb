{
 "cells": [
  {
   "cell_type": "code",
   "execution_count": 10,
   "id": "2e3b8671",
   "metadata": {},
   "outputs": [
    {
     "name": "stdout",
     "output_type": "stream",
     "text": [
      "Angle between curves in radians is 1.5708\n"
     ]
    }
   ],
   "source": [
    "#Find the angle between the curves r = 4cost and r = 5sint\n",
    "\n",
    "from sympy import *\n",
    "\n",
    "r,t=symbols ('r,t')\n",
    "\n",
    "r1 = 4*(cos(t))\n",
    "\n",
    "r2 = 5*(sin(t)) \n",
    "\n",
    "dr1=diff (r1,t)\n",
    "\n",
    "dr2 = diff (r2,t)\n",
    "\n",
    "t1 = r1 / dr1\n",
    "\n",
    "t2 = r2 / dr2\n",
    "\n",
    "q=solve(r1-r2,t)\n",
    "\n",
    "w1=t1.subs({t: float (q[0])})\n",
    "\n",
    "w2=t2.subs({t: float (q[0])})\n",
    "\n",
    "y1=atan(w1)\n",
    "\n",
    "y2=atan(w2)\n",
    "\n",
    "w=abs(y1-y2)\n",
    "\n",
    "print('Angle between curves in radians is %0.4f'%float(w))"
   ]
  }
 ],
 "metadata": {
  "kernelspec": {
   "display_name": "Python 3 (ipykernel)",
   "language": "python",
   "name": "python3"
  },
  "language_info": {
   "codemirror_mode": {
    "name": "ipython",
    "version": 3
   },
   "file_extension": ".py",
   "mimetype": "text/x-python",
   "name": "python",
   "nbconvert_exporter": "python",
   "pygments_lexer": "ipython3",
   "version": "3.9.7"
  }
 },
 "nbformat": 4,
 "nbformat_minor": 5
}
